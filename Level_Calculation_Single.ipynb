{
 "cells": [
  {
   "cell_type": "code",
   "execution_count": 1,
   "metadata": {},
   "outputs": [],
   "source": [
    "import quandl\n",
    "import pandas as pd\n",
    "from pandas import read_csv\n",
    "from pandas import datetime\n",
    "from pandas import DataFrame\n",
    "from statsmodels.tsa.arima_model import ARIMA\n",
    "import matplotlib.pyplot as plt\n",
    "import sys\n",
    "import warnings\n",
    "warnings.filterwarnings('ignore')\n",
    "df = pd.read_csv('price_data/TTC.csv')\n",
    "#print(df[['Date','Adj_Open', 'Adj_High','Adj_Low','Adj_Close']])\n",
    "#print(df.head(2),df.tail(2))"
   ]
  },
  {
   "cell_type": "code",
   "execution_count": 2,
   "metadata": {},
   "outputs": [],
   "source": [
    "df_new = df.iloc[:,8:12]\n",
    "df_new['Date'] = df['Date']\n",
    "df_new['pivot'] = 1/3*(df_new.iloc[:,1]+df_new.iloc[:,2]+df_new.iloc[:,3])\n",
    "df_new['pivot']=df_new['pivot'].shift(1)\n",
    "#print(df_new.head())\n",
    "df_new['S1']= 2*df_new['pivot']-df_new['Adj_High'].shift(1)\n",
    "df_new['S2']= df_new['pivot']-df_new['Adj_High'].shift(1)+df_new['Adj_Low'].shift(1)\n",
    "df_new['R1']= 2*df_new['pivot']-df_new['Adj_Low'].shift(1)\n",
    "df_new['R2']= df_new['pivot']-df_new['Adj_Low'].shift(1)+df_new['Adj_High'].shift(1)"
   ]
  },
  {
   "cell_type": "code",
   "execution_count": 3,
   "metadata": {},
   "outputs": [],
   "source": [
    "df_new['sma20'] = ((df_new['Adj_Close']+df_new['Adj_Open'])/2).rolling(window=20).mean()\n",
    "df_new['sma50'] = ((df_new['Adj_Close']+df_new['Adj_Open'])/2).rolling(window=50).mean()\n",
    "df_new['sigma20'] = ((df_new['Adj_Close']+df_new['Adj_Open'])/2).rolling(window=20).std()\n",
    "df_new['sigma50'] = ((df_new['Adj_Close']+df_new['Adj_Open'])/2).rolling(window=50).std()\n",
    "df_new['U20']=df_new['sma20']+2*df_new['sigma20']\n",
    "df_new['U50']=df_new['sma50']+2*df_new['sigma50']\n",
    "df_new['L20']=df_new['sma20']-2*df_new['sigma20']\n",
    "df_new['L50']=df_new['sma50']-2*df_new['sigma50']\n",
    "# calculate the standar deviation\n",
    "#rstd = df.rolling(window=20).std()\n",
    "#df_new.iloc[:,0]>df_new.iloc[:,15]\n",
    "#df_new.iloc[50:500,[1,14,15]].plot()"
   ]
  }
 ],
 "metadata": {
  "kernelspec": {
   "display_name": "Python 3",
   "language": "python",
   "name": "python3"
  },
  "language_info": {
   "codemirror_mode": {
    "name": "ipython",
    "version": 3
   },
   "file_extension": ".py",
   "mimetype": "text/x-python",
   "name": "python",
   "nbconvert_exporter": "python",
   "pygments_lexer": "ipython3",
   "version": "3.7.3"
  }
 },
 "nbformat": 4,
 "nbformat_minor": 2
}
