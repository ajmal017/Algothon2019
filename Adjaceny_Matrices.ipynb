{
 "cells": [
  {
   "cell_type": "markdown",
   "metadata": {},
   "source": [
    "# Adjaceny Matrices for Global Supply Chain Data"
   ]
  },
  {
   "cell_type": "code",
   "execution_count": null,
   "metadata": {},
   "outputs": [],
   "source": [
    "import pandas as pd\n",
    "import numpy as np\n",
    "import matplotlib.pyplot as plt\n",
    "%matplotlib inline\n",
    "\n",
    "import seaborn as sns\n",
    "\n",
    "supply_chain = pd.read_csv('./datasets/GSCR_GSPLY.csv')\n",
    "supply_ref = pd.read_csv('./datasets/GSCR_GSREF.csv')\n",
    "\n",
    "ticker_usa = set(supply_ref[supply_ref['country'] == 'United States']['ticker'])\n",
    "\n",
    "RELEVANT_COLUMNS = ['publish_date','supplier_customer_id','supplier_ticker','customer_ticker','revenue_dependency','reporting_period','public_domain_date','accounting_as_of_date','reporting_year']"
   ]
  },
  {
   "cell_type": "code",
   "execution_count": 39,
   "metadata": {},
   "outputs": [],
   "source": [
    "filter_ref = supply_ref[supply_ref['country'] == 'United States'][['ticker','company_name']]\n",
    "filter_ref['company_name'] = filter_ref['company_name'].replace(to_replace={'Inc': '',',':'','Company':'','\\.':''}, regex=True).str.strip()\n",
    "\n",
    "correct_tickers = pd.read_csv('./correct_tickers.csv')\n",
    "filter_ref['ticker'].isin(set(correct_tickers.T.values[0]))"
   ]
  },
  {
   "cell_type": "code",
   "execution_count": 66,
   "metadata": {},
   "outputs": [
    {
     "name": "stderr",
     "output_type": "stream",
     "text": [
      "//anaconda/lib/python3.5/site-packages/ipykernel/__main__.py:2: SettingWithCopyWarning: \n",
      "A value is trying to be set on a copy of a slice from a DataFrame.\n",
      "Try using .loc[row_indexer,col_indexer] = value instead\n",
      "\n",
      "See the caveats in the documentation: http://pandas.pydata.org/pandas-docs/stable/indexing.html#indexing-view-versus-copy\n",
      "  from ipykernel import kernelapp as app\n"
     ]
    }
   ],
   "source": [
    "z = filter_ref[filter_ref['ticker'].isin(correct_tickers['ticker'])]\n",
    "z['combined'] = filter_ref['ticker'] + '~' + filter_ref['company_name']\n",
    "pd.DataFrame(z['combined'].unique())[0].str.split('~',expand=True).to_csv('./ticker_to_name.csv')"
   ]
  },
  {
   "cell_type": "code",
   "execution_count": 48,
   "metadata": {},
   "outputs": [
    {
     "data": {
      "text/plain": [
       "(422, 1)"
      ]
     },
     "execution_count": 48,
     "metadata": {},
     "output_type": "execute_result"
    }
   ],
   "source": [
    "correct_tickers.shape"
   ]
  },
  {
   "cell_type": "markdown",
   "metadata": {},
   "source": [
    "# Figure out the relevant american exchanges as our universe of equities"
   ]
  },
  {
   "cell_type": "code",
   "execution_count": 2,
   "metadata": {},
   "outputs": [],
   "source": [
    "supply_chain['publish_date'] = pd.to_datetime(supply_chain['publish_date'], format='%Y-%m-%d')\n",
    "supply_chain['public_domain_date'] = pd.to_datetime(supply_chain['public_domain_date'], format='%Y-%m-%d')\n",
    "supply_chain['supplier_customer_id'] = supply_chain['supplier_ticker'] + ' ' + supply_chain['customer_ticker']\n",
    "\n",
    "supply_chain.loc[supply_chain['revenue_dependency'] > 1,'revenue_dependency'] = supply_chain.loc[supply_chain['revenue_dependency'] > 1]['revenue_dependency'] / 100\n",
    "\n",
    "supplier_in_usa = supply_chain.supplier_ticker.isin(ticker_usa)\n",
    "customer_in_usa = supply_chain.supplier_ticker.isin(ticker_usa)\n",
    "supply_chain_usa = supply_chain[supplier_in_usa & customer_in_usa] # Filter not used for adj matrix\n",
    "\n",
    "supply_chain_all = supply_chain\n",
    "supply_chain_all['public_domain_year'] = supply_chain_all['public_domain_date'].dt.year\n",
    "supply_chain_all = supply_chain_all[supply_chain_all.public_domain_year > 1970]"
   ]
  },
  {
   "cell_type": "code",
   "execution_count": 3,
   "metadata": {},
   "outputs": [
    {
     "name": "stdout",
     "output_type": "stream",
     "text": [
      "2003\n",
      "2019\n"
     ]
    },
    {
     "data": {
      "text/plain": [
       "Text(0.5,1,'Data Availability')"
      ]
     },
     "execution_count": 3,
     "metadata": {},
     "output_type": "execute_result"
    },
    {
     "data": {
      "image/png": "[encoded data removed]",
      "text/plain": [
       "<Figure size 600x400 with 1 Axes>"
      ]
     },
     "metadata": {},
     "output_type": "display_data"
    }
   ],
   "source": [
    "print(supply_chain_all.public_domain_year.min())\n",
    "print(supply_chain_all.public_domain_year.max())\n",
    "supply_chain_all.public_domain_year.value_counts().sort_index().plot(kind='barh')\n",
    "plt.title(\"Data Availability\")"
   ]
  },
  {
   "cell_type": "markdown",
   "metadata": {},
   "source": [
    "# List of all companies on american exchanges"
   ]
  },
  {
   "cell_type": "code",
   "execution_count": 4,
   "metadata": {},
   "outputs": [
    {
     "data": {
      "text/plain": [
       "{'1316',\n",
       " 'AA',\n",
       " 'AAPL',\n",
       " 'ABBV',\n",
       " 'ABC',\n",
       " 'ABT',\n",
       " 'AC',\n",
       " 'ACA',\n",
       " 'ACRX',\n",
       " 'ADBE',\n",
       " 'ADI',\n",
       " 'ADM',\n",
       " 'ADP',\n",
       " 'ADPT',\n",
       " 'AES',\n",
       " 'AET',\n",
       " 'AGR',\n",
       " 'AIR',\n",
       " 'AKS',\n",
       " 'ALJ',\n",
       " 'ALM',\n",
       " 'ALNY',\n",
       " 'ALSN',\n",
       " 'ALXN',\n",
       " 'AMAG',\n",
       " 'AMAT',\n",
       " 'AMC',\n",
       " 'AMD',\n",
       " 'AMGN',\n",
       " 'AMID',\n",
       " 'AMKR',\n",
       " 'AMRC',\n",
       " 'AMT',\n",
       " 'ANDV',\n",
       " 'ANDX',\n",
       " 'ANTM',\n",
       " 'APA',\n",
       " 'APC',\n",
       " 'APO',\n",
       " 'AR',\n",
       " 'ARIAD PharmaceuticalIAD Pharmaceuticals, Inc.',\n",
       " 'ARII',\n",
       " 'ARRS',\n",
       " 'ASIX',\n",
       " 'ASRT',\n",
       " 'AST',\n",
       " 'ATRO',\n",
       " 'ATSG',\n",
       " 'BA',\n",
       " 'BAH',\n",
       " 'BAX',\n",
       " 'BBY',\n",
       " 'BC',\n",
       " 'BCC',\n",
       " 'BCR',\n",
       " 'BDCO',\n",
       " 'BDX',\n",
       " 'BG',\n",
       " 'BGS',\n",
       " 'BHE',\n",
       " 'BHGE',\n",
       " 'BIIB',\n",
       " 'BIO',\n",
       " 'BMY',\n",
       " 'BOBE',\n",
       " 'BRK.A',\n",
       " 'BRS',\n",
       " 'BXC',\n",
       " 'C',\n",
       " 'CA',\n",
       " 'CACI',\n",
       " 'CAG',\n",
       " 'CAH',\n",
       " 'CALM',\n",
       " 'CAPL',\n",
       " 'CAT',\n",
       " 'CCL',\n",
       " 'CELG',\n",
       " 'CEQP',\n",
       " 'CF',\n",
       " 'CG',\n",
       " 'CHGG',\n",
       " 'CHK',\n",
       " 'CHRS',\n",
       " 'CI',\n",
       " 'CIDM',\n",
       " 'CIE',\n",
       " 'CIEN',\n",
       " 'CLDX',\n",
       " 'CLMT',\n",
       " 'CLR',\n",
       " 'CLX',\n",
       " 'CMI',\n",
       " 'CNC',\n",
       " 'CNGO',\n",
       " 'CNP',\n",
       " 'CNX',\n",
       " 'CNXN',\n",
       " 'COKE',\n",
       " 'COL',\n",
       " 'COMM',\n",
       " 'COP',\n",
       " 'CORE',\n",
       " 'COST',\n",
       " 'COTY',\n",
       " 'CPB',\n",
       " 'CPN',\n",
       " 'CPS',\n",
       " 'CPST',\n",
       " 'CRS',\n",
       " 'CSC',\n",
       " 'CSCO',\n",
       " 'CSL',\n",
       " 'CSRA',\n",
       " 'CVGW',\n",
       " 'CVI',\n",
       " 'CVS',\n",
       " 'CVX',\n",
       " 'CXO',\n",
       " 'CY',\n",
       " 'CYH',\n",
       " 'DAL',\n",
       " 'DAN',\n",
       " 'DCP',\n",
       " 'DD',\n",
       " 'DDR',\n",
       " 'DE',\n",
       " 'DEPO',\n",
       " 'DF',\n",
       " 'DGX',\n",
       " 'DIOD',\n",
       " 'DISC.A',\n",
       " 'DISH',\n",
       " 'DPS',\n",
       " 'DSPG',\n",
       " 'DVA',\n",
       " 'DXC',\n",
       " 'DY',\n",
       " 'EFX',\n",
       " 'EIX',\n",
       " 'ENLC',\n",
       " 'ENLK',\n",
       " 'EPD',\n",
       " 'ERA',\n",
       " 'ES',\n",
       " 'ESND',\n",
       " 'ESRX',\n",
       " 'ET',\n",
       " 'ETE',\n",
       " 'EXTR',\n",
       " 'F',\n",
       " 'FANG',\n",
       " 'FCX',\n",
       " 'FDX',\n",
       " 'FELP',\n",
       " 'FFIV',\n",
       " 'FGEN',\n",
       " 'FIS',\n",
       " 'FLR',\n",
       " 'FNSR',\n",
       " 'FPRX',\n",
       " 'FSLR',\n",
       " 'FTSI',\n",
       " 'GBX',\n",
       " 'GD',\n",
       " 'GDP',\n",
       " 'GE',\n",
       " 'GEL',\n",
       " 'GEN',\n",
       " 'GFF',\n",
       " 'GIII',\n",
       " 'GILD',\n",
       " 'GIS',\n",
       " 'GLF',\n",
       " 'GLP',\n",
       " 'GLW',\n",
       " 'GM',\n",
       " 'GOOGL',\n",
       " 'GPK',\n",
       " 'GPRO',\n",
       " 'GTT',\n",
       " 'GTY',\n",
       " 'HAE',\n",
       " 'HAL',\n",
       " 'HALO',\n",
       " 'HBI',\n",
       " 'HBIO',\n",
       " 'HCA',\n",
       " 'HDS',\n",
       " 'HEES',\n",
       " 'HELE',\n",
       " 'HES',\n",
       " 'HFC',\n",
       " 'HIL',\n",
       " 'HK',\n",
       " 'HLX',\n",
       " 'HOLX',\n",
       " 'HON',\n",
       " 'HP',\n",
       " 'HPE',\n",
       " 'HPQ',\n",
       " 'HRC',\n",
       " 'HRS',\n",
       " 'HSIC',\n",
       " 'HUM',\n",
       " 'HZO',\n",
       " 'IAC',\n",
       " 'IBM',\n",
       " 'IDSY',\n",
       " 'IFF',\n",
       " 'ILMN',\n",
       " 'IM',\n",
       " 'IMP',\n",
       " 'INCY',\n",
       " 'INFI',\n",
       " 'INFN',\n",
       " 'INGR',\n",
       " 'INIS',\n",
       " 'INO',\n",
       " 'INTC',\n",
       " 'IP',\n",
       " 'IPGP',\n",
       " 'IPXL',\n",
       " 'ISIL',\n",
       " 'ITT',\n",
       " 'JBL',\n",
       " 'JNJ',\n",
       " 'JNPR',\n",
       " 'K',\n",
       " 'KDP',\n",
       " 'KEYW',\n",
       " 'KHC',\n",
       " 'KKR',\n",
       " 'KLAC',\n",
       " 'KMB',\n",
       " 'KMI',\n",
       " 'KND',\n",
       " 'KO',\n",
       " 'KOP',\n",
       " 'KTOS',\n",
       " 'LBRT',\n",
       " 'LCI',\n",
       " 'LCII',\n",
       " 'LDOS',\n",
       " 'LEA',\n",
       " 'LEU',\n",
       " 'LITE',\n",
       " 'LLL',\n",
       " 'LLTC',\n",
       " 'LLY',\n",
       " 'LMT',\n",
       " 'LPI',\n",
       " 'LPX',\n",
       " 'LRCX',\n",
       " 'LVLT',\n",
       " 'LW',\n",
       " 'LXK',\n",
       " 'MACK',\n",
       " 'MAS',\n",
       " 'MCD',\n",
       " 'MCK',\n",
       " 'MDCO',\n",
       " 'MG',\n",
       " 'MIND',\n",
       " 'MMLP',\n",
       " 'MMRF',\n",
       " 'MNST',\n",
       " 'MNTX',\n",
       " 'MO',\n",
       " 'MPLX',\n",
       " 'MPO',\n",
       " 'MRK',\n",
       " 'MRO',\n",
       " 'MS',\n",
       " 'MSFT',\n",
       " 'MSI',\n",
       " 'MTOR',\n",
       " 'MU',\n",
       " 'MUR',\n",
       " 'MXIM',\n",
       " 'NAV',\n",
       " 'NBL',\n",
       " 'NEE',\n",
       " 'NFX',\n",
       " 'NGL',\n",
       " 'NHC',\n",
       " 'NKTR',\n",
       " 'NMBL',\n",
       " 'NOC',\n",
       " 'NOV',\n",
       " 'NS',\n",
       " 'NSIT',\n",
       " 'NTCT',\n",
       " 'NVDA',\n",
       " 'OAS',\n",
       " 'OESX',\n",
       " 'OGE',\n",
       " 'OKE',\n",
       " 'OKS',\n",
       " 'OMI',\n",
       " 'ON',\n",
       " 'OPK',\n",
       " 'OSK',\n",
       " 'OXY',\n",
       " 'PAA',\n",
       " 'PDCE',\n",
       " 'PDFS',\n",
       " 'PDLI',\n",
       " 'PE',\n",
       " 'PEP',\n",
       " 'PFE',\n",
       " 'PG',\n",
       " 'PGNX',\n",
       " 'PJT',\n",
       " 'PKG',\n",
       " 'PLT',\n",
       " 'PM',\n",
       " 'PPL',\n",
       " 'PQ',\n",
       " 'PQUE',\n",
       " 'PSX',\n",
       " 'PTX',\n",
       " 'PUMP',\n",
       " 'PVAC',\n",
       " 'PVH',\n",
       " 'PX',\n",
       " 'PXD',\n",
       " 'QCOM',\n",
       " 'QEP',\n",
       " 'QTWW.Q',\n",
       " 'R',\n",
       " 'RAD',\n",
       " 'RBC',\n",
       " 'REGI',\n",
       " 'REGN',\n",
       " 'RICE',\n",
       " 'RNWK',\n",
       " 'ROG',\n",
       " 'ROST',\n",
       " 'RSPP',\n",
       " 'RTK',\n",
       " 'RTN',\n",
       " 'SAIC',\n",
       " 'SANM',\n",
       " 'SATS',\n",
       " 'SBOW',\n",
       " 'SCLN',\n",
       " 'SD',\n",
       " 'SE',\n",
       " 'SEMG',\n",
       " 'SGEN',\n",
       " 'SGMA',\n",
       " 'SGY',\n",
       " 'SHLD',\n",
       " 'SM',\n",
       " 'SNMX',\n",
       " 'SNSS',\n",
       " 'SNX',\n",
       " 'SO',\n",
       " 'SPPI',\n",
       " 'SPR',\n",
       " 'SSD',\n",
       " 'SUN',\n",
       " 'SWKS',\n",
       " 'SWN',\n",
       " 'SXC',\n",
       " 'SXE',\n",
       " 'SYMC',\n",
       " 'SYY',\n",
       " 'Staples, Inc.Staples, Inc.',\n",
       " 'TAP',\n",
       " 'TCM',\n",
       " 'TECD',\n",
       " 'TER',\n",
       " 'TESS',\n",
       " 'TEX',\n",
       " 'TGEN',\n",
       " 'TGI',\n",
       " 'TGT',\n",
       " 'THC',\n",
       " 'THO',\n",
       " 'TKR',\n",
       " 'TLP',\n",
       " 'TPH',\n",
       " 'TREX',\n",
       " 'TRGP',\n",
       " 'TSE',\n",
       " 'TTC',\n",
       " 'TTMI',\n",
       " 'TXN',\n",
       " 'TXT',\n",
       " 'The Dow Chemical ComThe Dow Chemical Company',\n",
       " 'UFPI',\n",
       " 'UGI',\n",
       " 'UHS',\n",
       " 'UIS',\n",
       " 'ULUR',\n",
       " 'UNFI',\n",
       " 'UNH',\n",
       " 'UNT',\n",
       " 'UPS',\n",
       " 'UTHR',\n",
       " 'UTX',\n",
       " 'Unitervice',\n",
       " 'VC',\n",
       " 'VFC',\n",
       " 'VIAV',\n",
       " 'VMC',\n",
       " 'VMEM.Q',\n",
       " 'VMW',\n",
       " 'VRTV',\n",
       " 'VSAT',\n",
       " 'VSTO',\n",
       " 'VUZI',\n",
       " 'VZ',\n",
       " 'WAIR',\n",
       " 'WBA',\n",
       " 'WDC',\n",
       " 'WHR',\n",
       " 'WIN',\n",
       " 'WLK',\n",
       " 'WLKP',\n",
       " 'WLL',\n",
       " 'WMB',\n",
       " 'WNR',\n",
       " 'WPX',\n",
       " 'WPZ',\n",
       " 'WSTG',\n",
       " 'WTI',\n",
       " 'WWAV',\n",
       " 'WY',\n",
       " 'XCOO.Q',\n",
       " 'XCRA',\n",
       " 'XEC',\n",
       " 'XLNX',\n",
       " 'XOM',\n",
       " 'XON',\n",
       " 'XRX',\n",
       " 'YHOO',\n",
       " 'ZBRA',\n",
       " 'ZGNX',\n",
       " 'ZNGA'}"
      ]
     },
     "execution_count": 4,
     "metadata": {},
     "output_type": "execute_result"
    }
   ],
   "source": [
    "set(supply_chain_usa.supplier_ticker).intersection(set(supply_chain_usa.customer_ticker))"
   ]
  },
  {
   "cell_type": "markdown",
   "metadata": {},
   "source": [
    "# Build an adjacency matrix for year Y"
   ]
  },
  {
   "cell_type": "code",
   "execution_count": 5,
   "metadata": {},
   "outputs": [
    {
     "name": "stdout",
     "output_type": "stream",
     "text": [
      "Index(['publish_date', 'public_domain_date', 'accounting_as_of_date',\n",
      "       'supplier_name', 'supplier_isin', 'supplier_lei', 'supplier_exchange',\n",
      "       'supplier_ticker', 'customer_name', 'customer_isin', 'customer_lei',\n",
      "       'customer_exchange', 'customer_ticker', 'reporting_year',\n",
      "       'reporting_period', 'revenue_dependency',\n",
      "       'revenue_dependency_annotation', 'supplier_customer_id',\n",
      "       'public_domain_year'],\n",
      "      dtype='object')\n"
     ]
    }
   ],
   "source": [
    "print(supply_chain_all.columns)"
   ]
  },
  {
   "cell_type": "code",
   "execution_count": 6,
   "metadata": {},
   "outputs": [],
   "source": [
    "YEAR = 2016"
   ]
  },
  {
   "cell_type": "code",
   "execution_count": 7,
   "metadata": {},
   "outputs": [
    {
     "data": {
      "text/html": [
       "<div>\n",
       "<style scoped>\n",
       "    .dataframe tbody tr th:only-of-type {\n",
       "        vertical-align: middle;\n",
       "    }\n",
       "\n",
       "    .dataframe tbody tr th {\n",
       "        vertical-align: top;\n",
       "    }\n",
       "\n",
       "    .dataframe thead th {\n",
       "        text-align: right;\n",
       "    }\n",
       "</style>\n",
       "<table border=\"1\" class=\"dataframe\">\n",
       "  <thead>\n",
       "    <tr style=\"text-align: right;\">\n",
       "      <th></th>\n",
       "      <th>supplier_customer_id</th>\n",
       "      <th>supplier_ticker</th>\n",
       "      <th>customer_ticker</th>\n",
       "      <th>revenue_dependency</th>\n",
       "      <th>reporting_period</th>\n",
       "      <th>public_domain_date</th>\n",
       "      <th>reporting_year</th>\n",
       "    </tr>\n",
       "  </thead>\n",
       "  <tbody>\n",
       "    <tr>\n",
       "      <th>8</th>\n",
       "      <td>8012 LDR</td>\n",
       "      <td>8012</td>\n",
       "      <td>LDR</td>\n",
       "      <td>0.001365</td>\n",
       "      <td>99</td>\n",
       "      <td>2016-12-14</td>\n",
       "      <td>2016</td>\n",
       "    </tr>\n",
       "    <tr>\n",
       "      <th>14</th>\n",
       "      <td>8012 7256</td>\n",
       "      <td>8012</td>\n",
       "      <td>7256</td>\n",
       "      <td>0.006156</td>\n",
       "      <td>99</td>\n",
       "      <td>2016-06-24</td>\n",
       "      <td>2016</td>\n",
       "    </tr>\n",
       "    <tr>\n",
       "      <th>16</th>\n",
       "      <td>8012 7871</td>\n",
       "      <td>8012</td>\n",
       "      <td>7871</td>\n",
       "      <td>0.001249</td>\n",
       "      <td>99</td>\n",
       "      <td>2016-06-20</td>\n",
       "      <td>2016</td>\n",
       "    </tr>\n",
       "    <tr>\n",
       "      <th>24</th>\n",
       "      <td>6112 Pacific Srporation</td>\n",
       "      <td>6112</td>\n",
       "      <td>Pacific Srporation</td>\n",
       "      <td>0.222000</td>\n",
       "      <td>99</td>\n",
       "      <td>2017-02-23</td>\n",
       "      <td>2016</td>\n",
       "    </tr>\n",
       "    <tr>\n",
       "      <th>25</th>\n",
       "      <td>6112 Advanced r Co.,Ltd</td>\n",
       "      <td>6112</td>\n",
       "      <td>Advanced r Co.,Ltd</td>\n",
       "      <td>0.132000</td>\n",
       "      <td>99</td>\n",
       "      <td>2017-02-23</td>\n",
       "      <td>2016</td>\n",
       "    </tr>\n",
       "  </tbody>\n",
       "</table>\n",
       "</div>"
      ],
      "text/plain": [
       "       supplier_customer_id supplier_ticker     customer_ticker  \\\n",
       "8                  8012 LDR            8012                 LDR   \n",
       "14                8012 7256            8012                7256   \n",
       "16                8012 7871            8012                7871   \n",
       "24  6112 Pacific Srporation            6112  Pacific Srporation   \n",
       "25  6112 Advanced r Co.,Ltd            6112  Advanced r Co.,Ltd   \n",
       "\n",
       "    revenue_dependency  reporting_period public_domain_date  reporting_year  \n",
       "8             0.001365                99         2016-12-14            2016  \n",
       "14            0.006156                99         2016-06-24            2016  \n",
       "16            0.001249                99         2016-06-20            2016  \n",
       "24            0.222000                99         2017-02-23            2016  \n",
       "25            0.132000                99         2017-02-23            2016  "
      ]
     },
     "execution_count": 7,
     "metadata": {},
     "output_type": "execute_result"
    }
   ],
   "source": [
    "supply_chain_all_year = supply_chain_all[supply_chain_all['reporting_year'] == YEAR]\n",
    "supply_chain_all_year = supply_chain_all_year[supply_chain_all_year['reporting_period'] == 99]\n",
    "supply_chain_all_year[['supplier_customer_id','supplier_ticker','customer_ticker','revenue_dependency','reporting_period','public_domain_date','reporting_year']].head()"
   ]
  },
  {
   "cell_type": "markdown",
   "metadata": {},
   "source": [
    "## First we need to get the earliest published date of the data and discard the rest for each suplier customer id"
   ]
  },
  {
   "cell_type": "code",
   "execution_count": 8,
   "metadata": {},
   "outputs": [],
   "source": [
    "supply_chain_all_year_first_published = []\n",
    "for sc_id, sub_df in supply_chain_all_year.groupby('supplier_customer_id'):\n",
    "    sub_df = sub_df.reset_index()\n",
    "    min_publish_date = sub_df['publish_date'].idxmin()\n",
    "    supply_chain_all_year_first_published.append(sub_df.iloc[min_publish_date,:])\n",
    "    \n",
    "supply_chain_all_year_first_published = pd.DataFrame(supply_chain_all_year_first_published)\n",
    "supply_chain_all_year_first_published = supply_chain_all_year_first_published.set_index('index')"
   ]
  },
  {
   "cell_type": "code",
   "execution_count": 9,
   "metadata": {},
   "outputs": [],
   "source": [
    "supply_chain_matrix_year = supply_chain_all_year_first_published.pivot_table(values='revenue_dependency', index='supplier_ticker', columns='customer_ticker').fillna(0)\n",
    "supplier_pct = supply_chain_matrix_year.sum(axis=1)\n",
    "\n",
    "supply_chain_matrix_year_filtered = supply_chain_matrix_year[supplier_pct <= 1]"
   ]
  },
  {
   "cell_type": "markdown",
   "metadata": {},
   "source": [
    "### Note that there are a very small perecentage of companies where total revenue greater than one, quandl team say the data is sourced from 3rd party and not possible to fix so we discard this small 2% of data\n",
    "\n",
    "### We also note that there is a lot of missing % revenue out of company total revenue, this could be for many reasons eg. there are no suppliers for some parts of companies revenue generating operations eg. professional services, propietary software etc. "
   ]
  },
  {
   "cell_type": "code",
   "execution_count": 10,
   "metadata": {},
   "outputs": [
    {
     "data": {
      "text/plain": [
       "<matplotlib.axes._subplots.AxesSubplot at 0x1a205c2908>"
      ]
     },
     "execution_count": 10,
     "metadata": {},
     "output_type": "execute_result"
    },
    {
     "data": {
      "image/png": "[encoded data removed]",
      "text/plain": [
       "<Figure size 600x400 with 1 Axes>"
      ]
     },
     "metadata": {},
     "output_type": "display_data"
    }
   ],
   "source": [
    "sns.boxplot(supplier_pct)"
   ]
  },
  {
   "cell_type": "code",
   "execution_count": 11,
   "metadata": {},
   "outputs": [
    {
     "data": {
      "text/plain": [
       "0.01729559748427673"
      ]
     },
     "execution_count": 11,
     "metadata": {},
     "output_type": "execute_result"
    }
   ],
   "source": [
    "sum(supplier_pct > 1)/(sum(supplier_pct > 0))"
   ]
  },
  {
   "cell_type": "markdown",
   "metadata": {},
   "source": [
    "## Building all adjacency matrices"
   ]
  },
  {
   "cell_type": "code",
   "execution_count": 12,
   "metadata": {},
   "outputs": [
    {
     "name": "stdout",
     "output_type": "stream",
     "text": [
      "2003\n",
      "2004\n",
      "2005\n",
      "2006\n",
      "2007\n",
      "2008\n",
      "2009\n",
      "2010\n",
      "2011\n",
      "2012\n",
      "2013\n",
      "2014\n",
      "2015\n",
      "2016\n",
      "2017\n",
      "2018\n",
      "2019\n"
     ]
    }
   ],
   "source": [
    "supply_chain_adj_matrices = {}\n",
    "YEARS = np.arange(2003,2020)\n",
    "\n",
    "for YEAR in YEARS:\n",
    "    print(YEAR)\n",
    "    supply_chain_all_year = supply_chain_all[supply_chain_all['reporting_year'] == YEAR]\n",
    "    supply_chain_all_year = supply_chain_all_year[supply_chain_all_year['reporting_period'] == 99]\n",
    "    supply_chain_all_year_first_published = []\n",
    "    \n",
    "    for sc_id, sub_df in supply_chain_all_year.groupby('supplier_customer_id'):\n",
    "        sub_df = sub_df.reset_index()\n",
    "        min_publish_date = sub_df['publish_date'].idxmin()\n",
    "        supply_chain_all_year_first_published.append(sub_df.iloc[min_publish_date,:])\n",
    "\n",
    "    supply_chain_all_year_first_published = pd.DataFrame(supply_chain_all_year_first_published)\n",
    "    supply_chain_all_year_first_published = supply_chain_all_year_first_published.set_index('index')\n",
    "    \n",
    "    supply_chain_matrix_year = supply_chain_all_year_first_published.pivot_table(values='revenue_dependency', index='supplier_ticker', columns='customer_ticker').fillna(0)\n",
    "    supplier_pct = supply_chain_matrix_year.sum(axis=1)\n",
    "\n",
    "    supply_chain_matrix_year_filtered = supply_chain_matrix_year[supplier_pct <= 1]\n",
    "    \n",
    "    supply_chain_adj_matrices[YEAR] = supply_chain_matrix_year_filtered"
   ]
  },
  {
   "cell_type": "code",
   "execution_count": 16,
   "metadata": {},
   "outputs": [],
   "source": [
    "for YEAR in supply_chain_adj_matrices:\n",
    "    supply_chain_adj_matrices[YEAR].to_csv('./adjacency/adj_matrix_%s.csv' % YEAR)"
   ]
  },
  {
   "cell_type": "code",
   "execution_count": 18,
   "metadata": {},
   "outputs": [
    {
     "name": "stderr",
     "output_type": "stream",
     "text": [
      "//anaconda/lib/python3.5/site-packages/IPython/core/interactiveshell.py:2723: DtypeWarning: Columns (0) have mixed types. Specify dtype option on import or set low_memory=False.\n",
      "  interactivity=interactivity, compiler=compiler, result=result)\n"
     ]
    }
   ],
   "source": [
    "adj_matrix = pd.read_csv('./adjacency/adj_matrix_2017.csv')"
   ]
  },
  {
   "cell_type": "code",
   "execution_count": null,
   "metadata": {},
   "outputs": [],
   "source": []
  }
 ],
 "metadata": {
  "kernelspec": {
   "display_name": "Python [anaconda]",
   "language": "python",
   "name": "Python [anaconda]"
  },
  "language_info": {
   "codemirror_mode": {
    "name": "ipython",
    "version": 3
   },
   "file_extension": ".py",
   "mimetype": "text/x-python",
   "name": "python",
   "nbconvert_exporter": "python",
   "pygments_lexer": "ipython3",
   "version": "3.5.5"
  }
 },
 "nbformat": 4,
 "nbformat_minor": 2
}
